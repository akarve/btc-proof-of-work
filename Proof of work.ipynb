{
 "cells": [
  {
   "cell_type": "markdown",
   "metadata": {},
   "source": [
    "# Miniature: Bitcoin proof of work \n",
    "\n",
    "The proof that we've worked on a given preimage `s` is that we find `m` strings of the form `s` + `nonce_m` such that\n",
    "`h(s + nonce_m)` starts with a given prefix.\n",
    "\n",
    "The difficulty of the proof is proportional to the difficulty of inverting a cryptographic hash, the size of `m` and the length of the prefix.\n",
    "\n",
    "In practice this work is done on specialty hardware. This notebook is for entertainment only.\n",
    "\n",
    "See https://en.bitcoin.it/wiki/Proof_of_work."
   ]
  },
  {
   "cell_type": "code",
   "execution_count": 1,
   "metadata": {},
   "outputs": [],
   "source": [
    "import hashlib"
   ]
  },
  {
   "cell_type": "code",
   "execution_count": 17,
   "metadata": {},
   "outputs": [
    {
     "data": {
      "text/plain": [
       "'cf2efeb0e620b44b5d2a98f15d92d5b0363e026707d26c2f3e1b09874e969e75'"
      ]
     },
     "execution_count": 17,
     "metadata": {},
     "output_type": "execute_result"
    }
   ],
   "source": [
    "# we must encode or hashlib will complain\n",
    "base = \"this too shall pass\".encode('utf-8') \n",
    "hashlib.sha256(base).hexdigest()"
   ]
  },
  {
   "cell_type": "code",
   "execution_count": 42,
   "metadata": {},
   "outputs": [],
   "source": [
    "def prove(m=10, prefix='000'):\n",
    "    nonce = 0 # a nonce needn't be an integer\n",
    "    proofs = {}\n",
    "    while (len(proofs) < m):\n",
    "        nonce_str = str(nonce).encode('utf-8')\n",
    "        attempt = base + nonce_str\n",
    "        h = hashlib.sha256(attempt).hexdigest()\n",
    "        if h.startswith(prefix):\n",
    "            # assume p(collision) is approx. 0\n",
    "            proofs[attempt] = h\n",
    "        nonce += 1\n",
    "    return proofs"
   ]
  },
  {
   "cell_type": "markdown",
   "metadata": {},
   "source": [
    "Execution time scales linearly in `m`"
   ]
  },
  {
   "cell_type": "code",
   "execution_count": 49,
   "metadata": {},
   "outputs": [
    {
     "name": "stdout",
     "output_type": "stream",
     "text": [
      "CPU times: user 84.5 ms, sys: 2.89 ms, total: 87.4 ms\n",
      "Wall time: 86.5 ms\n"
     ]
    },
    {
     "data": {
      "text/plain": [
       "{b'this too shall passs12852': '00048374e4925e014f8af0bde60a041dbbd16e90da046e4ba55a5d5839506078',\n",
       " b'this too shall passs1500': '000ab968fa5ecb32ad398eeec6d29ee86d78cb94c12bb641545b1f8242f11c96',\n",
       " b'this too shall passs23597': '0003aa5490ba73942652af80d6e8c6c7ad4da0b6322484013e7aa180ee1cce50',\n",
       " b'this too shall passs25591': '00091b567595a93280c9b9779033ee11e3df95dc03b39c11eceb3e314df6a9b1',\n",
       " b'this too shall passs26809': '00012a841c46cdff284a54d2620ee304f1c003a4e54178e14473c9f5b2023d4d',\n",
       " b'this too shall passs34109': '00051b4d016b11bada202d40d93eb9711fd66bb7f6862596e4e5700ed1f83804',\n",
       " b'this too shall passs3525': '00086eaf323f004a12d51e09e5c5f37dc40c7b711b5d75be972713e980175b4f',\n",
       " b'this too shall passs36168': '000533e09309548debb264c1b92d6c352bdc6e7a040d62dd8dd911f6de8d33d3',\n",
       " b'this too shall passs7657': '000767bda39270df99d0143f61f78d3878bce0f8928ff6e4e470330c9c037de9',\n",
       " b'this too shall passs8004': '000f2092fcf6f7b0af856f1b25e3e404b4038db33a9021b879f72e1915b292a0'}"
      ]
     },
     "execution_count": 49,
     "metadata": {},
     "output_type": "execute_result"
    }
   ],
   "source": [
    "%time prove()"
   ]
  },
  {
   "cell_type": "code",
   "execution_count": 52,
   "metadata": {},
   "outputs": [
    {
     "name": "stdout",
     "output_type": "stream",
     "text": [
      "CPU times: user 888 ms, sys: 6.22 ms, total: 894 ms\n",
      "Wall time: 896 ms\n"
     ]
    },
    {
     "data": {
      "text/plain": [
       "{b'this too shall passs108925': '0006fe97cf7d3ad4e80edc82a7dded0974559efda351274fc718fda4980b0922',\n",
       " b'this too shall passs112639': '0007113a1c9b0892e41810a376b3532209059b73c7e6cc74644195079798972e',\n",
       " b'this too shall passs113974': '0009d9fccbe88982a6367c478ba8b60a09f7edf474064a2b017e394b6974b14a',\n",
       " b'this too shall passs121558': '000a0cff2db70e199c041f3e741d60022545d3a6bdbb47e5e99778fa5d8b942c',\n",
       " b'this too shall passs126749': '00018593540fa333a83578ef675ab61c176dc955dd5d63f5d0e7a48079112cba',\n",
       " b'this too shall passs12852': '00048374e4925e014f8af0bde60a041dbbd16e90da046e4ba55a5d5839506078',\n",
       " b'this too shall passs128882': '000094282835d326db76a79b031f1c900f36294b031fe459cc48016a44ee15f0',\n",
       " b'this too shall passs146419': '0001614177736cbb1985636837f5e027aaab1275f707ba6562caeb4fd8c4b5cd',\n",
       " b'this too shall passs1500': '000ab968fa5ecb32ad398eeec6d29ee86d78cb94c12bb641545b1f8242f11c96',\n",
       " b'this too shall passs150075': '00008d2b0fe155ff939749d4c1bd0cc0387f2b945ff13faea53f6f024c764413',\n",
       " b'this too shall passs152464': '0001d1680836c2acad2df48994a0ff592dc17cba053425b5085058947a0bac2e',\n",
       " b'this too shall passs153400': '0001f11951d9e58b525e7672cb4f31f3534729920c6065a3669aaace30981442',\n",
       " b'this too shall passs160034': '00077d033c177846940a384b46153dfaace048c1d0456589cb4ad7ea9f71c082',\n",
       " b'this too shall passs160772': '0001b2145b4e9ab42430107492926ed7e49efdbbea72d7b2b141d4408521f931',\n",
       " b'this too shall passs162050': '000a7d70d14d1cb5149b21817fca50bc31f13a08660c835494f37208e559bd01',\n",
       " b'this too shall passs162121': '000007976345697ef26227a1d90344f21e6d9deb2f1973e8c0e6b399bebc6ab8',\n",
       " b'this too shall passs163683': '000761d67393411b2681470dda42a5d8736ff7417ecbcad608b44c49bed3741a',\n",
       " b'this too shall passs169527': '000c686c158c50b2129d42e60f7965f38d2153f91d1af5f058b624f8d0ed250a',\n",
       " b'this too shall passs175911': '000ceb49ac29268311eda3e29bbd30aaaf077d75269fa70978a1a1e6c0b733cc',\n",
       " b'this too shall passs180578': '000bdfc75af98027f11d35fefd000fa9f869d52643f2fd7c5053f1f63c6d6095',\n",
       " b'this too shall passs183818': '000855a40aa7c8dbb52d4686c0d4e6ece13f71497f06ce4bef9d521a1e5b62b9',\n",
       " b'this too shall passs187306': '000766f3ba680217c8e322c18323bd7a574094a6826fb48d3bcd2f5e219bc0fd',\n",
       " b'this too shall passs194686': '000bb46d1a5a9a9833aa626206ff6eb3389f45573a50f08f71a9ae162b47ffae',\n",
       " b'this too shall passs196523': '0001cb821e93aa30c42fc2ee7fb9494e70b2b2f2031a5215a15c8cf8e9ed70a0',\n",
       " b'this too shall passs199497': '0000b8c6971d23fbbd102a3d6e58f03c559fbe531f5bd9ff884c0db68d4494b0',\n",
       " b'this too shall passs214526': '00015faa7e5383ea76d63e4ee4860c8512c332af88641002db56b00a74032166',\n",
       " b'this too shall passs215862': '000b25a1b268f03a9aa5873fec97e4d65eea689075c9b70fafd26852520fd4ba',\n",
       " b'this too shall passs226088': '0003a63ce9d42fd8309a4acb7bb2bb5cfd5a78e10ea082eb99a71c0f668320de',\n",
       " b'this too shall passs228778': '0007e3cf5a7c4a318b000a4fcefcd802ac4dd25fec7110b722ad3fba012eaa68',\n",
       " b'this too shall passs231901': '000d8df945dc2b543bba50968d25575b998d5b42442330be83e21bb59e317110',\n",
       " b'this too shall passs233421': '000c86970cf689a2cd533a20ea840cc4a0054a70c5aa1b377b0e2c84d02a1b74',\n",
       " b'this too shall passs233945': '000519aab31a759cb368ba194cc2b23351871572d9c75c5343d5debb78f5714e',\n",
       " b'this too shall passs235008': '000557f7e132bcd06627155d75ba4f7868f41db329465362af95a5f63e1c14f0',\n",
       " b'this too shall passs23597': '0003aa5490ba73942652af80d6e8c6c7ad4da0b6322484013e7aa180ee1cce50',\n",
       " b'this too shall passs246231': '000e6bdb387265df459c0d166780f239ae603b97adf3eb5c748dba454071e536',\n",
       " b'this too shall passs247487': '00009b82405d333b7c9ad61446baee50d717e3a36e3f533abf5376a207dea797',\n",
       " b'this too shall passs25591': '00091b567595a93280c9b9779033ee11e3df95dc03b39c11eceb3e314df6a9b1',\n",
       " b'this too shall passs256864': '00061f107062b3c4728aabc8d6fa849f6ebab705e8ee7b1bd61dbe9e0402df27',\n",
       " b'this too shall passs264303': '0006bb2ad0f0f9bb3d50e9a5b657a5fb3df2663090cf9c866da7a5b768877db3',\n",
       " b'this too shall passs267474': '0009b823587f0a90e9ef7c16d197c796b8bc233ea44396c603becae0ca6799f2',\n",
       " b'this too shall passs26809': '00012a841c46cdff284a54d2620ee304f1c003a4e54178e14473c9f5b2023d4d',\n",
       " b'this too shall passs268517': '0006e931d30fc4f79bae2d52a41c0981514bfef8f0ac95ea975ac581922ef6e1',\n",
       " b'this too shall passs278941': '000935e428fb9be9f68a5b56714eeb450ebef7faddac1ab9837e6053fe447312',\n",
       " b'this too shall passs285557': '000589ee7df972c50db6351f93fd1c4f6ba642accbdace45bf6d76efe2b16d68',\n",
       " b'this too shall passs290488': '00002508767a878090ad44f3350d14a4dad60460479249d7ab3c28459d3b7143',\n",
       " b'this too shall passs296008': '0001c63b6dee7296bac364c147175fe21d2995395cc35702b0aa6768c4d2daa3',\n",
       " b'this too shall passs302103': '0006d1006e7a0f3417d8a92371b18788c3820c68b3edeed132b906e2072aac92',\n",
       " b'this too shall passs303309': '000a591d4af7987d9fbd93ade6001d98e8e1d34a65efec67fa9e41dc9e6c6660',\n",
       " b'this too shall passs303914': '000842d5ceee850075189d1b0330a4f02a7f5bd248f21bbec0d82ab1d3aea305',\n",
       " b'this too shall passs305904': '000b0ad10b891f83c622a1e8bd7b4f86bd79194ce1981d4adb3890695c9efad9',\n",
       " b'this too shall passs306071': '000a3b0327e28e4305a8d380a336fd1d784dac3b6020471cc6b2d014f87af0ed',\n",
       " b'this too shall passs310841': '0003e874ede0c07a8dcbd123ee7e1d4e90fec526643a557a61440bd2b8e0f499',\n",
       " b'this too shall passs319497': '000dde79f4dc54a5890ac276f35f6a03c9dbdbb2eb7a577771909c0015e07676',\n",
       " b'this too shall passs325661': '00029cd2530613031191d9ff4d8c7d6efd86e7bc0cd5ac8bf1f98e0a36771b18',\n",
       " b'this too shall passs330774': '000953dc87be2088ceb76e558dd353f200ed22d1423e2d34e7978102c2dad9f8',\n",
       " b'this too shall passs330954': '000557834960b517164f6897e5ff0655f5752032bd69d97b123d68d022c5aeee',\n",
       " b'this too shall passs333508': '00011a77f0db1f91af8a959f528b65127d264fc19aaaa9688da11e39a95ccb68',\n",
       " b'this too shall passs340168': '000ca445b1d8f93f362230b804919f7d470186c5e05077e27f5c7d3b43fadffa',\n",
       " b'this too shall passs340184': '0005b5103416760e2fad4e6fe9617be9cad9a531d6f30c828bbb3c486e51825b',\n",
       " b'this too shall passs34109': '00051b4d016b11bada202d40d93eb9711fd66bb7f6862596e4e5700ed1f83804',\n",
       " b'this too shall passs348509': '0000a87b0ab5cbac6e4a893d45a35fea11a278497718d749b8e05861e529d09d',\n",
       " b'this too shall passs3525': '00086eaf323f004a12d51e09e5c5f37dc40c7b711b5d75be972713e980175b4f',\n",
       " b'this too shall passs353019': '000a15cf6f897cb5dc8371bd7da706fbd3450a02973dc6a0519d42e71d77c209',\n",
       " b'this too shall passs357651': '000609e62747d41597b5ca91eda2dce107741c5acb3924b4d27ddeadc2631c49',\n",
       " b'this too shall passs36168': '000533e09309548debb264c1b92d6c352bdc6e7a040d62dd8dd911f6de8d33d3',\n",
       " b'this too shall passs366718': '000ce4da52e51b09dd394f4426d0aff2f881e6545e7a9c165472a585b738761b',\n",
       " b'this too shall passs376265': '0001265dfd102070a7ceed92a3f7c56ab763a036f263525e1fbdf278ac4213b0',\n",
       " b'this too shall passs382194': '00066aa13a1143648a3c27eb58a3b5dcb3c5aa657bdf898c09dc23e641c1b918',\n",
       " b'this too shall passs383298': '000ef7ef840d2fe70e9d4f1b56fe6c8545be9e4ddd8f516394d8893aadb3e15b',\n",
       " b'this too shall passs383577': '0001a571e7739987751362d0ad8925cdbf3bd097cc1a4923a74fa298b3f424da',\n",
       " b'this too shall passs389568': '000be82a02c460e618c4a2a1f38242bae1b06cc5a745475c7d83d6d520b58fdd',\n",
       " b'this too shall passs396405': '000b93a3e922e5508a08740b0b772a83049acd604ff7f5ad9873ab7d74b32c32',\n",
       " b'this too shall passs405527': '0000881293ee03a6b776b084641d173b73d6635c129de5a7d0c8cd324ad6bdca',\n",
       " b'this too shall passs409241': '0002faf83a086d8036766e7464977fbbee0d83e3a46c44bf160e92c522d987f2',\n",
       " b'this too shall passs409372': '0009829e8b7993f951efdaf93ad7283f7faa54f4b7407c018e02f83600df4588',\n",
       " b'this too shall passs411499': '0006e5994668aecf706eb9e8bfae1c309928326e3166b61cd6dcc26b82a7df92',\n",
       " b'this too shall passs413563': '000a4dda76a689ac79c5088506aaa54790d79c92628fbd59b995f31822265499',\n",
       " b'this too shall passs421357': '00004cd9489157fbb0b983f95208f679164b634374df3dca2e9a257c21f3657c',\n",
       " b'this too shall passs424078': '0008ffa1aba3c6dee94c3ff5e7b7b209e7ce0f023644eb51e0930adf45f0401a',\n",
       " b'this too shall passs427706': '000f84f674d484a61532520b2ddc119f71578667be03232314300d437ddca071',\n",
       " b'this too shall passs43158': '0006b463743a1beac131f93025d9a602316cd270cb1f8eeaaf1f030200a680b6',\n",
       " b'this too shall passs433118': '000c936767c3761a4c21026e129cf8c676159211042e2e2f88d94f234c4a07e5',\n",
       " b'this too shall passs433477': '000e4b87990fc0e077412d0303e032eba16bd0783897f109076ae16644f647ee',\n",
       " b'this too shall passs435291': '0009009028cba3e2c454eb26032eaa6d7d6773e4fc34d869d95118f150e761dc',\n",
       " b'this too shall passs440714': '000e79c73ae16ee1fa2dd289c67eb6677cac200d12339d46524bc4f03c1b005e',\n",
       " b'this too shall passs47015': '00087c2c8b7c39912cacdda5fa8bc336bb51d1d43f8bb27a8edaa5734ce04ec9',\n",
       " b'this too shall passs54180': '000e2f040373bf8f8c89d809368ef17178f54c5bbdd2bfcf70dbe4cdc2d2986a',\n",
       " b'this too shall passs60942': '000921189d40520f0c1c250ae91b066c3c4db734297b8ca811854749eaf5620a',\n",
       " b'this too shall passs63929': '000d266dd4883e2a9c10867a86ab3f8f1958dd2b725779f7fb58d570067632d6',\n",
       " b'this too shall passs66289': '000b94c3c18562f4b1de4503d4c7a017cd6cfcdd4e48629737f9f463e07800bf',\n",
       " b'this too shall passs69418': '000cb554fae4ec9f308822e8420e4f964a98672efa518a37b1ea85b22d2f856b',\n",
       " b'this too shall passs74352': '000b2bb28ee701a4273123ab6e3fe76da9e85b4ea5a993ae6d6826ad6976e772',\n",
       " b'this too shall passs7657': '000767bda39270df99d0143f61f78d3878bce0f8928ff6e4e470330c9c037de9',\n",
       " b'this too shall passs77571': '000ee340be9d2de38bd2e8b5790ae4d9e5d146ed59f6a1265c3c5403e7a143bd',\n",
       " b'this too shall passs79884': '0001eaefb07f2fb12b093134679bcc903351289c67c79a7ba1791e211a0ea4a1',\n",
       " b'this too shall passs8004': '000f2092fcf6f7b0af856f1b25e3e404b4038db33a9021b879f72e1915b292a0',\n",
       " b'this too shall passs83976': '00084559d679bcf8445dce812d68cd2bb30d23329b86a4f7d6c704c72996073a',\n",
       " b'this too shall passs86834': '00049145cbf378e1500c8bfb97f56266646cdedf304264e3a40c78badccc1bd5',\n",
       " b'this too shall passs91629': '000fc974760b0198f47076f6ac0894b1739a8d3d59478af0201047560dd07892',\n",
       " b'this too shall passs92734': '00068533565a7db4a88b666e8ebec1492844cce22202f0b6cb6681cd63d1e3f4'}"
      ]
     },
     "execution_count": 52,
     "metadata": {},
     "output_type": "execute_result"
    }
   ],
   "source": [
    "%time prove(100)"
   ]
  },
  {
   "cell_type": "code",
   "execution_count": null,
   "metadata": {},
   "outputs": [],
   "source": [
    "%time prove(1000)"
   ]
  },
  {
   "cell_type": "markdown",
   "metadata": {},
   "source": [
    "Difficulty increases exponentially in `len(prefix)` under the assumption that the hashcode avalanches properly and all hash strings are equally likely. E.g. 1/26 of hashes start with `0`. 1/26^2 start with `00`, etc."
   ]
  },
  {
   "cell_type": "code",
   "execution_count": 53,
   "metadata": {
    "scrolled": true
   },
   "outputs": [
    {
     "name": "stdout",
     "output_type": "stream",
     "text": [
      "CPU times: user 1.32 s, sys: 4.53 ms, total: 1.33 s\n",
      "Wall time: 1.33 s\n"
     ]
    },
    {
     "data": {
      "text/plain": [
       "{b'this too shall passs128882': '000094282835d326db76a79b031f1c900f36294b031fe459cc48016a44ee15f0',\n",
       " b'this too shall passs150075': '00008d2b0fe155ff939749d4c1bd0cc0387f2b945ff13faea53f6f024c764413',\n",
       " b'this too shall passs162121': '000007976345697ef26227a1d90344f21e6d9deb2f1973e8c0e6b399bebc6ab8',\n",
       " b'this too shall passs199497': '0000b8c6971d23fbbd102a3d6e58f03c559fbe531f5bd9ff884c0db68d4494b0',\n",
       " b'this too shall passs247487': '00009b82405d333b7c9ad61446baee50d717e3a36e3f533abf5376a207dea797',\n",
       " b'this too shall passs290488': '00002508767a878090ad44f3350d14a4dad60460479249d7ab3c28459d3b7143',\n",
       " b'this too shall passs348509': '0000a87b0ab5cbac6e4a893d45a35fea11a278497718d749b8e05861e529d09d',\n",
       " b'this too shall passs405527': '0000881293ee03a6b776b084641d173b73d6635c129de5a7d0c8cd324ad6bdca',\n",
       " b'this too shall passs421357': '00004cd9489157fbb0b983f95208f679164b634374df3dca2e9a257c21f3657c',\n",
       " b'this too shall passs670026': '0000400cba7cc8544f8ed80c6d014f3d0403f62c531b0b56d78c856e5d3cd4c6'}"
      ]
     },
     "execution_count": 53,
     "metadata": {},
     "output_type": "execute_result"
    }
   ],
   "source": [
    "%time prove(prefix='0000')"
   ]
  },
  {
   "cell_type": "code",
   "execution_count": 54,
   "metadata": {},
   "outputs": [
    {
     "name": "stdout",
     "output_type": "stream",
     "text": [
      "CPU times: user 13.2 s, sys: 23.5 ms, total: 13.2 s\n",
      "Wall time: 13.3 s\n"
     ]
    },
    {
     "data": {
      "text/plain": [
       "{b'this too shall passs162121': '000007976345697ef26227a1d90344f21e6d9deb2f1973e8c0e6b399bebc6ab8',\n",
       " b'this too shall passs2469168': '00000fabfb91bfbe93b42afda22f8b60fbd1d553932136609caa5bd8a4ccbd40',\n",
       " b'this too shall passs3393656': '000003502d9ec56c34687666342ad8a15376d724f6f3c3140b1246ac85a7e6fb',\n",
       " b'this too shall passs4634513': '00000c1e1bc636382f18550ba44d8f7343a5f665605ba90f5f10d11352f50920',\n",
       " b'this too shall passs5161206': '00000823809051cab58f7879ebf39ea407eb6218fae9ad317c39d2b66b602ae3',\n",
       " b'this too shall passs5923359': '00000bff8d24b81d4a84eee5a6e065f4ad6ae5fe14da99a4c4716279074bd853',\n",
       " b'this too shall passs6068984': '00000d4b6c00aeaa9fd2afbc46966b6db82385412428078544d8d22caca71f81',\n",
       " b'this too shall passs6212404': '000006de00f3646295b2105094958be8d621c5d8f86517011d1071ca2011aa62',\n",
       " b'this too shall passs6885858': '00000643bedff00747463e5a498e7361f018be2678f7e03b396e3177fee0960a',\n",
       " b'this too shall passs931948': '000006d0561cac4942a58dff4898756285c43e458f02000ecbaffa2c27202bdb'}"
      ]
     },
     "execution_count": 54,
     "metadata": {},
     "output_type": "execute_result"
    }
   ],
   "source": [
    "%time prove(prefix='00000')"
   ]
  },
  {
   "cell_type": "code",
   "execution_count": 55,
   "metadata": {},
   "outputs": [
    {
     "name": "stdout",
     "output_type": "stream",
     "text": [
      "CPU times: user 7min 41s, sys: 1.72 s, total: 7min 43s\n",
      "Wall time: 7min 45s\n"
     ]
    },
    {
     "data": {
      "text/plain": [
       "{b'this too shall passs150859199': '000000f3764cd1cddbc9148ba40a47c716c3deacd18cac481cf8b01439940861',\n",
       " b'this too shall passs198516728': '00000019eac0bbb1130701542c2e670adac64f08e2737db8e294d0a7d1b57fad',\n",
       " b'this too shall passs23036791': '000000d7384221f46d71e5b6800882cd13ef4d1f2a0fed929354ac387de9b6e3',\n",
       " b'this too shall passs231071571': '0000008a92a7b3be88decef1d7d352fa3ac8288d44bdf98f55ef7b99e757bb95',\n",
       " b'this too shall passs41661287': '000000e01b520c0debd0f307975b186223f87d55ea6edc1df1888a791e9121ab',\n",
       " b'this too shall passs53544803': '0000003349ac12b7c790b246044c5cab35e133154f8733589267b515b2507a10',\n",
       " b'this too shall passs55307663': '000000e46fe41f72b60709be79c6587e2d8a27f9b17698845cff4c1378adb1b3',\n",
       " b'this too shall passs63769935': '000000a23e677bae2e7b90946aa0306e8fca9ce4969ea95a72f387e98b718406',\n",
       " b'this too shall passs65455675': '00000020da9c207f48699941e0fc6916428b646181d523606814c63701acbcf9',\n",
       " b'this too shall passs79566112': '000000344ff439845705cf024b8abf74b6c26a0bdf77f81c68616513daa5c117'}"
      ]
     },
     "execution_count": 55,
     "metadata": {},
     "output_type": "execute_result"
    }
   ],
   "source": [
    "%time prove(prefix='000000')"
   ]
  },
  {
   "cell_type": "code",
   "execution_count": null,
   "metadata": {},
   "outputs": [],
   "source": []
  }
 ],
 "metadata": {
  "kernelspec": {
   "display_name": "Python 3",
   "language": "python",
   "name": "python3"
  },
  "language_info": {
   "codemirror_mode": {
    "name": "ipython",
    "version": 3
   },
   "file_extension": ".py",
   "mimetype": "text/x-python",
   "name": "python",
   "nbconvert_exporter": "python",
   "pygments_lexer": "ipython3",
   "version": "3.6.3"
  }
 },
 "nbformat": 4,
 "nbformat_minor": 2
}
